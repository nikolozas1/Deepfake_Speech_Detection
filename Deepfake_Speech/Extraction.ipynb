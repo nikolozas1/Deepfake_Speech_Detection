{
 "cells": [
  {
   "cell_type": "code",
   "execution_count": 1,
   "id": "23588dbf-1d41-4001-92ad-e0d65ef8337a",
   "metadata": {},
   "outputs": [],
   "source": [
    "import librosa\n",
    "import numpy as np\n",
    "import csv\n",
    "arr = np.array"
   ]
  },
  {
   "cell_type": "code",
   "execution_count": 3,
   "id": "84aef759-eae6-4cfb-8eaa-aab9fe72ec06",
   "metadata": {},
   "outputs": [],
   "source": [
    "def audio(x):\n",
    "    y, sr = librosa.load(x)\n",
    "    mfcc = librosa.feature.mfcc(y=y, sr=sr, n_mfcc=20)\n",
    "    chroma = np.mean(librosa.feature.chroma_stft(y=y, sr=sr))\n",
    "    cent = np.mean(librosa.feature.spectral_centroid(y=y, sr=sr))\n",
    "    rms = np.mean(librosa.feature.rms(y=y))\n",
    "    bw = np.mean(librosa.feature.spectral_bandwidth(y=y, sr=sr))\n",
    "    rolloff = np.mean(librosa.feature.spectral_rolloff(y=y, sr=sr))\n",
    "    zcr = np.mean(librosa.feature.zero_crossing_rate(y))\n",
    "    for i in range(20):\n",
    "     globals()[f'mfcc{i+1}'] = np.mean(mfcc[i])\n",
    "    header = ['chroma_stft', 'rms', 'spectral_centroid', 'spectral_bandwidth',\n",
    "       'rolloff', 'zero_crossing_rate', 'mfcc1', 'mfcc2', 'mfcc3', 'mfcc4',\n",
    "       'mfcc5', 'mfcc6', 'mfcc7', 'mfcc8', 'mfcc9', 'mfcc10', 'mfcc11',\n",
    "       'mfcc12', 'mfcc13', 'mfcc14', 'mfcc15', 'mfcc16', 'mfcc17', 'mfcc18',\n",
    "       'mfcc19', 'mfcc20']\n",
    "    values = [chroma, rms, cent, bw, rolloff, zcr,mfcc1, mfcc2, mfcc3, mfcc4,\n",
    "       mfcc5, mfcc6, mfcc7, mfcc8, mfcc9, mfcc10, mfcc11,\n",
    "       mfcc12, mfcc13, mfcc14, mfcc15, mfcc16, mfcc17, mfcc18,\n",
    "       mfcc19, mfcc20]\n",
    "    with open(\"example.csv\", 'w') as file:\n",
    "        writer = csv.writer(file)\n",
    "        writer.writerow(header)\n",
    "        writer.writerow(values)"
   ]
  },
  {
   "cell_type": "code",
   "execution_count": 4,
   "id": "8cfae23d-9f99-4485-9d9f-80050e24c41a",
   "metadata": {},
   "outputs": [],
   "source": [
    "audio('AUDIO/REAL/taylor-original.wav')"
   ]
  },
  {
   "cell_type": "code",
   "execution_count": null,
   "id": "0c36d1cf-45ec-4728-ad18-938d280f7ab4",
   "metadata": {},
   "outputs": [],
   "source": []
  }
 ],
 "metadata": {
  "kernelspec": {
   "display_name": "Python 3 (ipykernel)",
   "language": "python",
   "name": "python3"
  },
  "language_info": {
   "codemirror_mode": {
    "name": "ipython",
    "version": 3
   },
   "file_extension": ".py",
   "mimetype": "text/x-python",
   "name": "python",
   "nbconvert_exporter": "python",
   "pygments_lexer": "ipython3",
   "version": "3.11.5"
  }
 },
 "nbformat": 4,
 "nbformat_minor": 5
}
